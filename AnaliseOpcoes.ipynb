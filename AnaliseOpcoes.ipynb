{
  "nbformat": 4,
  "nbformat_minor": 0,
  "metadata": {
    "colab": {
      "name": "AnaliseOpcoes.ipynb",
      "provenance": [],
      "mount_file_id": "1CVRfXZ_iqRINlITAPVSXN4txX5lKHIiX",
      "authorship_tag": "ABX9TyNe3+opwwgFX8T+WrEzqABu",
      "include_colab_link": true
    },
    "kernelspec": {
      "display_name": "Python 3",
      "name": "python3"
    },
    "language_info": {
      "name": "python"
    }
  },
  "cells": [
    {
      "cell_type": "markdown",
      "metadata": {
        "id": "view-in-github",
        "colab_type": "text"
      },
      "source": [
        "<a href=\"https://colab.research.google.com/github/AlexandreMinato/InvestimentoOpcoes/blob/main/AnaliseOpcoes.ipynb\" target=\"_parent\"><img src=\"https://colab.research.google.com/assets/colab-badge.svg\" alt=\"Open In Colab\"/></a>"
      ]
    },
    {
      "cell_type": "code",
      "metadata": {
        "id": "STwnCqWOyWs1",
        "colab": {
          "base_uri": "https://localhost:8080/"
        },
        "outputId": "971420c4-5c9c-44a5-f68d-b4910eb37ab1"
      },
      "source": [
        "# install chromium, its driver, and selenium\n",
        "!apt-get update\n",
        "!apt install chromium-chromedriver\n",
        "!cp /usr/lib/chromium-browser/chromedriver /usr/bin\n",
        "!pip install selenium"
      ],
      "execution_count": 10,
      "outputs": [
        {
          "output_type": "stream",
          "name": "stdout",
          "text": [
            "\r0% [Working]\r            \rHit:1 http://ppa.launchpad.net/c2d4u.team/c2d4u4.0+/ubuntu bionic InRelease\n",
            "\r0% [Connecting to archive.ubuntu.com (91.189.88.142)] [Connecting to security.u\r0% [1 InRelease gpgv 15.9 kB] [Waiting for headers] [Connecting to security.ubu\r                                                                               \rHit:2 http://archive.ubuntu.com/ubuntu bionic InRelease\n",
            "\r0% [1 InRelease gpgv 15.9 kB] [Waiting for headers] [Connecting to security.ubu\r                                                                               \rHit:3 http://ppa.launchpad.net/cran/libgit2/ubuntu bionic InRelease\n",
            "\r0% [1 InRelease gpgv 15.9 kB] [Waiting for headers] [Connecting to security.ubu\r                                                                               \rHit:4 http://archive.ubuntu.com/ubuntu bionic-updates InRelease\n",
            "\r0% [1 InRelease gpgv 15.9 kB] [Waiting for headers] [Connecting to security.ubu\r                                                                               \rHit:5 https://cloud.r-project.org/bin/linux/ubuntu bionic-cran40/ InRelease\n",
            "\r0% [1 InRelease gpgv 15.9 kB] [Waiting for headers] [Connecting to security.ubu\r                                                                               \rHit:6 http://archive.ubuntu.com/ubuntu bionic-backports InRelease\n",
            "\r0% [1 InRelease gpgv 15.9 kB] [Connecting to security.ubuntu.com (91.189.91.38)\r                                                                               \rHit:7 http://ppa.launchpad.net/deadsnakes/ppa/ubuntu bionic InRelease\n",
            "\r0% [1 InRelease gpgv 15.9 kB] [Connecting to security.ubuntu.com (91.189.91.38)\r                                                                               \rHit:8 http://ppa.launchpad.net/graphics-drivers/ppa/ubuntu bionic InRelease\n",
            "\r                                                                               \r0% [1 InRelease gpgv 15.9 kB] [Waiting for headers] [Waiting for headers]\r                                                                         \rHit:9 http://security.ubuntu.com/ubuntu bionic-security InRelease\n",
            "Ign:10 https://developer.download.nvidia.com/compute/cuda/repos/ubuntu1804/x86_64  InRelease\n",
            "Ign:11 https://developer.download.nvidia.com/compute/machine-learning/repos/ubuntu1804/x86_64  InRelease\n",
            "Hit:12 https://developer.download.nvidia.com/compute/cuda/repos/ubuntu1804/x86_64  Release\n",
            "Hit:13 https://developer.download.nvidia.com/compute/machine-learning/repos/ubuntu1804/x86_64  Release\n",
            "Reading package lists... Done\n",
            "Reading package lists... Done\n",
            "Building dependency tree       \n",
            "Reading state information... Done\n",
            "chromium-chromedriver is already the newest version (92.0.4515.159-0ubuntu0.18.04.1).\n",
            "0 upgraded, 0 newly installed, 0 to remove and 56 not upgraded.\n",
            "cp: '/usr/lib/chromium-browser/chromedriver' and '/usr/bin/chromedriver' are the same file\n",
            "Requirement already satisfied: selenium in /usr/local/lib/python3.7/dist-packages (3.141.0)\n",
            "Requirement already satisfied: urllib3 in /usr/local/lib/python3.7/dist-packages (from selenium) (1.24.3)\n"
          ]
        }
      ]
    },
    {
      "cell_type": "code",
      "metadata": {
        "id": "BCsrlX5DKT9Y"
      },
      "source": [
        "import pandas as pd\n",
        "import requests\n",
        "from bs4 import BeautifulSoup\n",
        "from selenium.webdriver.support.ui import WebDriverWait\n",
        "from selenium.webdriver.support import expected_conditions as EC\n",
        "import time\n",
        "from selenium.webdriver.common.by import By\n",
        "import selenium.webdriver.common.keys\n",
        "from selenium.webdriver.common.keys import Keys"
      ],
      "execution_count": 11,
      "outputs": []
    },
    {
      "cell_type": "code",
      "metadata": {
        "id": "KMGkIwvctD_4"
      },
      "source": [
        "from selenium import webdriver\n",
        "options = webdriver.ChromeOptions()\n",
        "options.add_argument('--headless')\n",
        "options.add_argument('--no-sandbox')\n",
        "options.add_argument('--disable-dev-shm-usage')\n",
        "# open it, go to a website, and get results\n",
        "wd = webdriver.Chrome('chromedriver',options=options)\n"
      ],
      "execution_count": 12,
      "outputs": []
    },
    {
      "cell_type": "code",
      "metadata": {
        "id": "HrRTeiuEBTrd"
      },
      "source": [
        "def formatar_coluna(df_formatar, colunas):\n",
        "  for coluna in colunas:\n",
        "    df_formatar[coluna] = df_formatar[coluna]/100 \n",
        "    "
      ],
      "execution_count": 13,
      "outputs": []
    },
    {
      "cell_type": "code",
      "metadata": {
        "id": "_FkW2pYO07w4"
      },
      "source": [
        "def capturar_dados_opc(ticker, colunas_df):\n",
        "    url = \"https://opcoes.net.br/opcoes/bovespa/\" + ticker\n",
        "    wait = WebDriverWait(wd, 5000)\n",
        "    time.sleep(2)\n",
        "    wd.get(url)\n",
        "    time.sleep(2) #AGUARDA o script do Datatable rodar\n",
        "    html = wd.page_source\n",
        "    soup = BeautifulSoup(html, 'lxml')\n",
        "    table = soup.find_all('table', { \"id\" : \"tblListaOpc\" }) #tblListaOpc\n",
        "    df_result = pd.read_html(str(table))\n",
        "    df_result[0].columns = colunas_df\n",
        "    df_result = df_result[0]\n",
        "    df_result.set_index('ticker')\n",
        "    colunas_formatar = ['strike',  'vol_implicita', 'delta', 'gamma', 'theta_R$', 'theta', 'vega']\n",
        "    formatar_coluna(df_formatar=df_result, colunas=colunas_formatar)\n",
        "    df_result.insert(1,'ativo', ticker) \n",
        "    return df_result  "
      ],
      "execution_count": 14,
      "outputs": []
    },
    {
      "cell_type": "code",
      "metadata": {
        "id": "fxgpJS0Wt7JS"
      },
      "source": [
        "posicoes = ['BBDC4','EGIE3','ITSA4','BEEF3','COGN3','BBAS3','GOAU4','CVCB3','SBSP3','EVEN3','ARZZ3','PETR4','SULA11','B3SA3','CIEL3','TRPL4','IRBR3']\n",
        "colunas = ['ticker', 'tipo','FM','mod','strike','a_i_OTM','ultimo','variacao','data','num_negocios','volume_financeiro','vol_implicita','delta','gamma','theta_R$', 'theta', 'vega']\n",
        "df_consolidado = pd.DataFrame(columns=colunas)"
      ],
      "execution_count": 15,
      "outputs": []
    },
    {
      "cell_type": "code",
      "metadata": {
        "id": "BzW51e7FFoFq"
      },
      "source": [
        "for posicao in posicoes:\n",
        "  df_temp = capturar_dados_opc(posicao, colunas)\n",
        "  time.sleep(2)\n",
        "  df_consolidado = df_consolidado.append(df_temp, ignore_index=True)"
      ],
      "execution_count": 16,
      "outputs": []
    },
    {
      "cell_type": "code",
      "metadata": {
        "id": "UmtKlekvH2ed"
      },
      "source": [
        "df_consolidado.to_csv('opcoes.csv')"
      ],
      "execution_count": 17,
      "outputs": []
    },
    {
      "cell_type": "code",
      "metadata": {
        "id": "u1qemFeg57OV"
      },
      "source": [
        "def capturar_valor_black_scholes(tiker_name):\n",
        "  url_bs = 'https://opcoes.net.br/calculadora-Black-Scholes'\n",
        "  wd.get(url_bs)\n",
        "  elem = wd.find_element_by_id(\"ticker\")\n",
        "  elem.clear()\n",
        "  elem.send_keys(tiker_name)\n",
        "  elem.send_keys(Keys.RETURN)\n",
        "  elem.send_keys(Keys.ENTER)\n",
        "  time.sleep(2)\n",
        "  bs_ticker = wd.find_elements_by_id(\"ticker\")[0].get_attribute('value')\n",
        "  bs_strike = wd.find_elements_by_id(\"strike\")[0].get_attribute('value')\n",
        "  bs_txjuros = wd.find_elements_by_id(\"taxaDeJuros\")[0].get_attribute('value')\n",
        "  bs_cotacao = wd.find_elements_by_id(\"cotacaoAcao\")[0].get_attribute('value')\n",
        "  bs_premio = wd.find_elements_by_id(\"premioDaOpcao\")[0].get_attribute('value')\n",
        "  df2 = {'ticker': bs_ticker, 'strike': bs_strike, 'taxaDeJuros': bs_txjuros, 'cotacaoAcao': bs_cotacao, 'premioDaOpcao': bs_premio}\n",
        "  return df2"
      ],
      "execution_count": 18,
      "outputs": []
    },
    {
      "cell_type": "code",
      "metadata": {
        "id": "um1bOTNC6xos"
      },
      "source": [
        "df_bs = pd.DataFrame(columns=['ticker', 'strike', 'taxaDeJuros', 'cotacaoAcao', 'premioDaOpcao'])"
      ],
      "execution_count": 19,
      "outputs": []
    },
    {
      "cell_type": "code",
      "metadata": {
        "colab": {
          "base_uri": "https://localhost:8080/"
        },
        "id": "yxj7PlVzIa3P",
        "outputId": "38e55258-ebd0-4d62-95d3-909c82f0b466"
      },
      "source": [
        "for index, row in df_consolidado.iterrows():\n",
        "  df_bs = df_bs.append(capturar_valor_black_scholes(row['ticker']), ignore_index=True)\n",
        "  print(row['ticker'])"
      ],
      "execution_count": null,
      "outputs": [
        {
          "output_type": "stream",
          "name": "stdout",
          "text": [
            "B3SAV118\n",
            "B3SAV123\n",
            "B3SAJ128\n",
            "B3SAV128\n"
          ]
        }
      ]
    },
    {
      "cell_type": "code",
      "metadata": {
        "id": "BjuWIfuKL5Th"
      },
      "source": [
        "df_bs.set_index('ticker')"
      ],
      "execution_count": null,
      "outputs": []
    },
    {
      "cell_type": "code",
      "metadata": {
        "id": "YnCXyUUfMXgA"
      },
      "source": [
        "df_consolidado.set_index('ticker')"
      ],
      "execution_count": null,
      "outputs": []
    },
    {
      "cell_type": "code",
      "metadata": {
        "id": "YGGr3rD-Mc9q"
      },
      "source": [
        "df_union = pd.concat([df_bs, df_consolidado], axis=1)"
      ],
      "execution_count": null,
      "outputs": []
    },
    {
      "cell_type": "code",
      "metadata": {
        "id": "tRAQfLTZMqeh"
      },
      "source": [
        "df_union.columns = ['ticker_bs','strike_bs','taxaDeJuros_bs','cotacaoAcao_bs','premioDaOpcao_bs','ticker','tipo','FM','mod','strike','a_i_OTM','ultimo','variacao','data','num_negocios','volume_financeiro','vol_implicita','delta','gamma','theta_R$','theta','vega','ativo']"
      ],
      "execution_count": null,
      "outputs": []
    },
    {
      "cell_type": "code",
      "metadata": {
        "id": "5BTIRdF2NhIi"
      },
      "source": [
        "df_union.set_index('ticker')"
      ],
      "execution_count": null,
      "outputs": []
    },
    {
      "cell_type": "code",
      "metadata": {
        "id": "C271mg5aNp2j"
      },
      "source": [
        "#df_union[['ticker', 'strike_bs']]\n",
        "df_union.to_csv('union.csv')"
      ],
      "execution_count": null,
      "outputs": []
    }
  ]
}